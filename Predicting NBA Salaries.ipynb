{
 "cells": [
  {
   "cell_type": "markdown",
   "metadata": {},
   "source": [
    "**ORIE 4740 Final Project <br />\n",
    "Brian Bao // Peter Li** "
   ]
  },
  {
   "cell_type": "code",
   "execution_count": 2,
   "metadata": {},
   "outputs": [
    {
     "data": {
      "text/html": [
       "<script>requirejs.config({paths: { 'plotly': ['https://cdn.plot.ly/plotly-latest.min']},});if(!window.Plotly) {{require(['plotly'],function(plotly) {window.Plotly=plotly;});}}</script>"
      ],
      "text/vnd.plotly.v1+html": [
       "<script>requirejs.config({paths: { 'plotly': ['https://cdn.plot.ly/plotly-latest.min']},});if(!window.Plotly) {{require(['plotly'],function(plotly) {window.Plotly=plotly;});}}</script>"
      ]
     },
     "metadata": {},
     "output_type": "display_data"
    }
   ],
   "source": [
    "import time\n",
    "import matplotlib.pyplot as plt\n",
    "import numpy as np\n",
    "import pandas as pd\n",
    "import plotly.offline as py\n",
    "py.init_notebook_mode(connected=True)\n",
    "import seaborn as sns\n",
    "\n",
    "from sklearn.metrics import accuracy_score, classification_report, fbeta_score\n",
    "from sklearn.model_selection import train_test_split, GridSearchCV\n",
    "from sklearn.preprocessing import StandardScaler"
   ]
  },
  {
   "cell_type": "code",
   "execution_count": 5,
   "metadata": {},
   "outputs": [
    {
     "data": {
      "text/html": [
       "<div>\n",
       "<style scoped>\n",
       "    .dataframe tbody tr th:only-of-type {\n",
       "        vertical-align: middle;\n",
       "    }\n",
       "\n",
       "    .dataframe tbody tr th {\n",
       "        vertical-align: top;\n",
       "    }\n",
       "\n",
       "    .dataframe thead th {\n",
       "        text-align: right;\n",
       "    }\n",
       "</style>\n",
       "<table border=\"1\" class=\"dataframe\">\n",
       "  <thead>\n",
       "    <tr style=\"text-align: right;\">\n",
       "      <th></th>\n",
       "      <th>name</th>\n",
       "      <th>salary_by_year_end</th>\n",
       "      <th>stats_by_year_end</th>\n",
       "      <th>year_ends_played</th>\n",
       "    </tr>\n",
       "  </thead>\n",
       "  <tbody>\n",
       "    <tr>\n",
       "      <th>a.c. green</th>\n",
       "      <td>a.c. green</td>\n",
       "      <td>{u'1991': u'1750000', u'1993': u'1750000', u'1...</td>\n",
       "      <td>{u'1991': {u'three_p': 0.2, u'ast': 71, u'stl'...</td>\n",
       "      <td>[1991, 1992, 1993, 1994, 1995, 1996, 1997, 199...</td>\n",
       "    </tr>\n",
       "    <tr>\n",
       "      <th>aaron brooks</th>\n",
       "      <td>aaron brooks</td>\n",
       "      <td>{u'2016': u'2000000', u'2018': u'2116955', u'2...</td>\n",
       "      <td>{u'2016': {u'three_p': 0.357, u'ast': 180, u's...</td>\n",
       "      <td>[2009, 2010, 2013, 2014, 2014, 2016, 2017, 2018]</td>\n",
       "    </tr>\n",
       "    <tr>\n",
       "      <th>aaron gray</th>\n",
       "      <td>aaron gray</td>\n",
       "      <td>{u'2016': u'452059', u'2018': u'452059', u'201...</td>\n",
       "      <td>{u'2014': {u'three_p': 0.0, u'ast': 19, u'stl'...</td>\n",
       "      <td>[2008, 2009, 2010, 2011, 2012, 2013, 2014, 201...</td>\n",
       "    </tr>\n",
       "    <tr>\n",
       "      <th>aaron mckie</th>\n",
       "      <td>aaron mckie</td>\n",
       "      <td>{u'1995': u'650000', u'1997': u'1040000', u'19...</td>\n",
       "      <td>{u'1995': {u'three_p': 0.393, u'ast': 89, u'st...</td>\n",
       "      <td>[1995, 1996, 1997, 1998, 1999, 2000, 2002, 200...</td>\n",
       "    </tr>\n",
       "    <tr>\n",
       "      <th>aaron williams</th>\n",
       "      <td>aaron williams</td>\n",
       "      <td>{u'1995': u'150000', u'1997': u'169000', u'199...</td>\n",
       "      <td>{u'1995': {u'three_p': 0.0, u'ast': 0, u'stl':...</td>\n",
       "      <td>[1995, 1997, 1998, 1999, 2000, 2001, 2002, 200...</td>\n",
       "    </tr>\n",
       "  </tbody>\n",
       "</table>\n",
       "</div>"
      ],
      "text/plain": [
       "                          name  \\\n",
       "a.c. green          a.c. green   \n",
       "aaron brooks      aaron brooks   \n",
       "aaron gray          aaron gray   \n",
       "aaron mckie        aaron mckie   \n",
       "aaron williams  aaron williams   \n",
       "\n",
       "                                               salary_by_year_end  \\\n",
       "a.c. green      {u'1991': u'1750000', u'1993': u'1750000', u'1...   \n",
       "aaron brooks    {u'2016': u'2000000', u'2018': u'2116955', u'2...   \n",
       "aaron gray      {u'2016': u'452059', u'2018': u'452059', u'201...   \n",
       "aaron mckie     {u'1995': u'650000', u'1997': u'1040000', u'19...   \n",
       "aaron williams  {u'1995': u'150000', u'1997': u'169000', u'199...   \n",
       "\n",
       "                                                stats_by_year_end  \\\n",
       "a.c. green      {u'1991': {u'three_p': 0.2, u'ast': 71, u'stl'...   \n",
       "aaron brooks    {u'2016': {u'three_p': 0.357, u'ast': 180, u's...   \n",
       "aaron gray      {u'2014': {u'three_p': 0.0, u'ast': 19, u'stl'...   \n",
       "aaron mckie     {u'1995': {u'three_p': 0.393, u'ast': 89, u'st...   \n",
       "aaron williams  {u'1995': {u'three_p': 0.0, u'ast': 0, u'stl':...   \n",
       "\n",
       "                                                 year_ends_played  \n",
       "a.c. green      [1991, 1992, 1993, 1994, 1995, 1996, 1997, 199...  \n",
       "aaron brooks     [2009, 2010, 2013, 2014, 2014, 2016, 2017, 2018]  \n",
       "aaron gray      [2008, 2009, 2010, 2011, 2012, 2013, 2014, 201...  \n",
       "aaron mckie     [1995, 1996, 1997, 1998, 1999, 2000, 2002, 200...  \n",
       "aaron williams  [1995, 1997, 1998, 1999, 2000, 2001, 2002, 200...  "
      ]
     },
     "execution_count": 5,
     "metadata": {},
     "output_type": "execute_result"
    }
   ],
   "source": [
    "data = pd.read_json('nba.json').transpose()\n",
    "data.head()"
   ]
  },
  {
   "cell_type": "code",
   "execution_count": 3,
   "metadata": {},
   "outputs": [],
   "source": [
    "# sns.countplot(x='rating_category', data=data).set_title(\"Chocolate\")\n",
    "\n",
    "# sns.countplot(x='quality_category', data=data).set_title(\"White Wine\")\n",
    "# plt.figure(figsize=[3,3])\n",
    "# sns.barplot(x = 'quality_category', y = 'sulphates', data = data).set_title(\"White Wine\")\n",
    "# sns.barplot(x = 'quality_category', y = 'pH', data = data).set_title(\"White Wine\")\n",
    "\n",
    "# plt.figure(figsize=(15,7))\n",
    "# plt.xticks(rotation=45)\n",
    "# sns.countplot(x='cocoa_pct', data=data)\n",
    "\n",
    "# fig, ax = plt.subplots(figsize=[13,4])\n",
    "# for i, c in data.groupby('is_domestic'):\n",
    "#     sns.distplot(c['rating_category'], ax=ax, label=['Not Domestic', 'Is Domestic'][i])\n",
    "\n",
    "# ax.set_title('Categorized Rating, Domesticity')\n",
    "# ax.legend()\n",
    "# plt.xlabel(\"Categorized Rating\")\n",
    "# plt.ylabel(\"Count\")"
   ]
  },
  {
   "cell_type": "code",
   "execution_count": 4,
   "metadata": {},
   "outputs": [],
   "source": [
    "def data_sort(x, y):\n",
    "    idx = x.argsort()\n",
    "    return x[idx], y[idx]"
   ]
  },
  {
   "cell_type": "code",
   "execution_count": 45,
   "metadata": {},
   "outputs": [],
   "source": [
    "def plot_results(y_preds, yTe):\n",
    "    fig, ax = plt.subplots(figsize=(10, 5))\n",
    "    yTe, y_preds = data_sort(yTe, y_preds)\n",
    "    ax.plot(yTe, 'blue')\n",
    "    ax.plot(y_preds, 'r.')\n",
    "    ax.autoscale_view()\n",
    "    ax.grid = True\n",
    "\n",
    "def predict(model, sample_size, xTr, yTr, xTe, yTe):\n",
    "    '''\n",
    "        params:\n",
    "        - model: model to fit\n",
    "        - sample_size: number of samples to size\n",
    "        - xTr: training features\n",
    "        - yTr: training labels\n",
    "        - xTe: testing features\n",
    "        - yTe: testing labels\n",
    "    '''\n",
    "    print(\"Training {} on {} samples\".format(model.__class__.__name__, sample_size))\n",
    "    results = {}\n",
    "    \n",
    "    start = time.time()\n",
    "    model = model.fit(xTr[:sample_size], yTr[:sample_size])\n",
    "    end = time.time()\n",
    "\n",
    "    results['train_time'] = end - start\n",
    "    \n",
    "    start = time.time()\n",
    "    train_preds = model.predict(xTr[:300])\n",
    "    test_preds = model.predict(xTe)\n",
    "    end = time.time()\n",
    "    \n",
    "    results['prediction_time'] = end - start\n",
    "    \n",
    "    # Score by accuracy 1(pred_i != yTe_i)\n",
    "    results['acc_train'] = accuracy_score(yTr[:300], train_preds)\n",
    "    results['acc_test'] = accuracy_score(yTe, test_preds)\n",
    "\n",
    "    # Score by fbeta \n",
    "    results['f_train'] = fbeta_score(yTr[:300], train_preds, beta=0.5, average='micro')\n",
    "    results['f_test'] = fbeta_score(yTe, test_preds, beta=0.5, average='micro')\n",
    "    print(classification_report(yTe, test_preds))\n",
    "\n",
    "    if model.__class__.__name__ == \"RandomForestClassifier\":\n",
    "        try:\n",
    "            importances = model.feature_importances_\n",
    "\n",
    "            std = np.std([tree.feature_importances_ for tree in model.estimators_],\n",
    "                         axis=0)\n",
    "            indices = np.argsort(importances)[::-1]\n",
    "\n",
    "            plt.figure(figsize=(10,5))\n",
    "            plt.title(\"Chocolate Importance of Features\")\n",
    "            plt.bar(range(xTr.shape[1])[:20], importances[indices][:20],\n",
    "                   color=\"brown\", yerr=std[indices][:20], align=\"center\")\n",
    "            plt.xticks(indices[:20], xTr.columns[:20], rotation=45)\n",
    "            plt.ylabel(\"Weights\")\n",
    "            plt.show()\n",
    "        except:\n",
    "            pass\n",
    "    \n",
    "    return results"
   ]
  },
  {
   "cell_type": "code",
   "execution_count": 46,
   "metadata": {},
   "outputs": [
    {
     "data": {
      "image/png": "[encoded data removed]",
      "text/plain": [
       "<matplotlib.figure.Figure at 0x1056ece90>"
      ]
     },
     "metadata": {},
     "output_type": "display_data"
    }
   ],
   "source": [
    "from sklearn import decomposition\n",
    "\n",
    "pca = decomposition.PCA()\n",
    "pca.fit_transform(x)\n",
    "\n",
    "x_normalized = (x - x.mean())/x.std()\n",
    "pca_normalized = decomposition.PCA()\n",
    "pca_normalized.fit_transform(x_normalized)\n",
    "\n",
    "plt.figure(figsize=(15,8))\n",
    "plt.plot(np.cumsum([0] + list(pca.explained_variance_ratio_)), 'r')\n",
    "plt.plot(np.cumsum([0] + list(pca_normalized.explained_variance_ratio_)), 'b')\n",
    "plt.title(\"PCA on Dataset\", fontsize=15)\n",
    "plt.xlabel(\"Number of Principal Components\", fontsize=13)\n",
    "plt.ylabel(\"Percent of Explained Variance\",fontsize=13)\n",
    "plt.grid()"
   ]
  },
  {
   "cell_type": "code",
   "execution_count": 47,
   "metadata": {},
   "outputs": [
    {
     "name": "stdout",
     "output_type": "stream",
     "text": [
      "Training RandomForestClassifier on 1256 samples\n",
      "             precision    recall  f1-score   support\n",
      "\n",
      "          0       0.35      0.26      0.30       135\n",
      "          1       0.37      0.44      0.40       187\n",
      "          2       0.56      0.56      0.56       217\n",
      "\n",
      "avg / total       0.44      0.44      0.44       539\n",
      "\n"
     ]
    },
    {
     "data": {
      "image/png": "[encoded data removed]",
      "text/plain": [
       "<matplotlib.figure.Figure at 0x106547f10>"
      ]
     },
     "metadata": {},
     "output_type": "display_data"
    }
   ],
   "source": [
    "from sklearn.dummy import DummyClassifier\n",
    "from sklearn.ensemble import RandomForestClassifier\n",
    "from sklearn.naive_bayes import GaussianNB\n",
    "from sklearn.neighbors import KNeighborsClassifier\n",
    "from sklearn.tree import DecisionTreeClassifier\n",
    "from sklearn.linear_model import SGDClassifier, LogisticRegression\n",
    "from sklearn.svm import SVC\n",
    "\n",
    "def run_classifiers(xTr, xTe, yTr, yTe):\n",
    "    dummy = DummyClassifier(strategy='most_frequent')\n",
    "    rf = RandomForestClassifier()\n",
    "    opt_rf = RandomForestClassifier(n_estimators=100, random_state=20)\n",
    "    nb = GaussianNB()\n",
    "    knn = KNeighborsClassifier()\n",
    "    opt_knn = KNeighborsClassifier(n_neighbors=5)\n",
    "    dt = DecisionTreeClassifier(max_depth=1)\n",
    "    sgd = SGDClassifier()\n",
    "    lr = LogisticRegression()\n",
    "    svc = SVC()\n",
    "    opt_svc = SVC(C = 1, gamma = 0.1, kernel = 'rbf')\n",
    "\n",
    "#     classifiers = [dummy, nb, knn, opt_knn, dt, svc, opt_svc, rf, opt_rf]\n",
    "    classifiers = [rf]\n",
    "    # Sample 1%, 10%, 25%, 50%, and 100% of the training set\n",
    "    sample_pcts = [100]\n",
    "    sample_sizes = [int(len(xTr)*pct/100) for pct in sample_pcts]\n",
    "\n",
    "    results = {}\n",
    "    for classifier in classifiers:\n",
    "        classifier_name = classifier.__class__.__name__\n",
    "        results[classifier_name] = {}\n",
    "        for sample_size in sample_sizes:\n",
    "            results[classifier_name][sample_size] = predict(classifier, sample_size, xTr, yTr, xTe, yTe)\n",
    "    \n",
    "xTr, xTe, yTr, yTe = train_test_split(x, y, test_size=0.3, random_state=1)\n",
    "\n",
    "sc = StandardScaler()\n",
    "xTr = sc.fit_transform(xTr)\n",
    "xTe = sc.transform(xTe)\n",
    "\n",
    "run_classifiers(xTr, xTe, yTr, yTe)"
   ]
  },
  {
   "cell_type": "code",
   "execution_count": 48,
   "metadata": {},
   "outputs": [
    {
     "name": "stdout",
     "output_type": "stream",
     "text": [
      "Training RandomForestClassifier on 1256 samples\n",
      "             precision    recall  f1-score   support\n",
      "\n",
      "          0       0.33      0.31      0.32       135\n",
      "          1       0.39      0.44      0.42       187\n",
      "          2       0.47      0.44      0.45       217\n",
      "\n",
      "avg / total       0.41      0.41      0.41       539\n",
      "\n"
     ]
    },
    {
     "data": {
      "image/png": "[encoded data removed]",
      "text/plain": [
       "<matplotlib.figure.Figure at 0x108a5e550>"
      ]
     },
     "metadata": {},
     "output_type": "display_data"
    }
   ],
   "source": [
    "from sklearn import decomposition\n",
    "\n",
    "# Run PCA\n",
    "pca = decomposition.PCA(n_components=10)\n",
    "\n",
    "xTr, xTe, yTr, yTe = train_test_split(x, y, test_size=0.3, random_state=1)\n",
    "\n",
    "sc = StandardScaler()\n",
    "xTr = sc.fit_transform(xTr)\n",
    "xTe = sc.transform(xTe)\n",
    "\n",
    "xTr_pca = pca.fit_transform(xTr)\n",
    "xTe_pca = pca.transform(xTe)\n",
    "\n",
    "run_classifiers(xTr_pca, xTe_pca, yTr, yTe)"
   ]
  },
  {
   "cell_type": "code",
   "execution_count": 23,
   "metadata": {},
   "outputs": [
    {
     "data": {
      "text/plain": [
       "{'C': 1, 'gamma': 0.1, 'kernel': 'rbf'}"
      ]
     },
     "execution_count": 23,
     "metadata": {},
     "output_type": "execute_result"
    }
   ],
   "source": [
    "# Improve on SVM\n",
    "from sklearn.svm import SVC\n",
    "\n",
    "params = {\n",
    "    'C': [0.1, 0.5, 1, 1.5, 2],\n",
    "    'kernel': ['rbf'],\n",
    "    'gamma': [0.1, 0.5, 0.8, 1, 1.25, 2]\n",
    "}\n",
    "\n",
    "# White Wine: {'kernel': 'rbf', 'C': 2, 'gamma': 0.6}\n",
    "# Red Wine: {'C': 1.5, 'gamma': 0.5, 'kernel': 'rbf'}\n",
    "svc = SVC()\n",
    "grid_svc = GridSearchCV(svc, param_grid=params, scoring='accuracy', cv=5, n_jobs=-1)\n",
    "grid_svc.fit(xTr, yTr)\n",
    "grid_svc.best_params_"
   ]
  },
  {
   "cell_type": "code",
   "execution_count": 28,
   "metadata": {},
   "outputs": [
    {
     "data": {
      "text/plain": [
       "{'n_neighbors': 5}"
      ]
     },
     "execution_count": 28,
     "metadata": {},
     "output_type": "execute_result"
    }
   ],
   "source": [
    "# Improve on KNN\n",
    "from sklearn.neighbors import KNeighborsClassifier\n",
    "\n",
    "params = {\n",
    "    'n_neighbors': list(range(1, 10))\n",
    "}\n",
    "\n",
    "knn = KNeighborsClassifier()\n",
    "grid_knn = GridSearchCV(knn, param_grid=params, scoring='accuracy', cv=5, n_jobs=-1)\n",
    "grid_knn.fit(xTr, yTr)\n",
    "grid_knn.best_params_"
   ]
  },
  {
   "cell_type": "code",
   "execution_count": 25,
   "metadata": {},
   "outputs": [
    {
     "data": {
      "text/plain": [
       "{'n_estimators': 100, 'random_state': 20}"
      ]
     },
     "execution_count": 25,
     "metadata": {},
     "output_type": "execute_result"
    }
   ],
   "source": [
    "# Improve on Random Forest\n",
    "from sklearn.ensemble import RandomForestClassifier\n",
    "from sklearn.metrics import make_scorer\n",
    "\n",
    "params = {\n",
    "    'n_estimators': [100, 200, 300, 500],\n",
    "    'random_state': [5, 10, 15, 20, 30]\n",
    "}\n",
    "\n",
    "scorer = make_scorer(fbeta_score, beta=0.5, average='micro')\n",
    "\n",
    "# White Wine: {'n_estimators': 300, 'random_state': 15}\n",
    "# Red Wine: {'n_estimators': 200, 'random_state': 20}\n",
    "rf = RandomForestClassifier()\n",
    "grid_rf = GridSearchCV(rf, param_grid=params, scoring=scorer, cv=5, n_jobs=-1)\n",
    "grid_rf.fit(xTr, yTr)\n",
    "grid_rf.best_params_"
   ]
  },
  {
   "cell_type": "code",
   "execution_count": null,
   "metadata": {},
   "outputs": [],
   "source": []
  }
 ],
 "metadata": {
  "kernelspec": {
   "display_name": "Python 2",
   "language": "python",
   "name": "python2"
  },
  "language_info": {
   "codemirror_mode": {
    "name": "ipython",
    "version": 2
   },
   "file_extension": ".py",
   "mimetype": "text/x-python",
   "name": "python",
   "nbconvert_exporter": "python",
   "pygments_lexer": "ipython2",
   "version": "2.7.10"
  }
 },
 "nbformat": 4,
 "nbformat_minor": 2
}
