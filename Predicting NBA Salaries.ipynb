{
 "cells": [
  {
   "cell_type": "markdown",
   "metadata": {},
   "source": [
    "**ORIE 4740 Final Project <br />\n",
    "Brian Bao // Peter Li** "
   ]
  },
  {
   "cell_type": "code",
   "execution_count": 20,
   "metadata": {},
   "outputs": [
    {
     "data": {
      "text/html": [
       "<script>requirejs.config({paths: { 'plotly': ['https://cdn.plot.ly/plotly-latest.min']},});if(!window.Plotly) {{require(['plotly'],function(plotly) {window.Plotly=plotly;});}}</script>"
      ],
      "text/vnd.plotly.v1+html": [
       "<script>requirejs.config({paths: { 'plotly': ['https://cdn.plot.ly/plotly-latest.min']},});if(!window.Plotly) {{require(['plotly'],function(plotly) {window.Plotly=plotly;});}}</script>"
      ]
     },
     "metadata": {},
     "output_type": "display_data"
    }
   ],
   "source": [
    "import time\n",
    "import matplotlib.pyplot as plt\n",
    "import math\n",
    "import numpy as np\n",
    "import pandas as pd\n",
    "import plotly.offline as py\n",
    "py.init_notebook_mode(connected=True)\n",
    "import seaborn as sns\n",
    "import xgboost as xgb\n",
    "\n",
    "from sklearn.metrics import accuracy_score, classification_report, fbeta_score\n",
    "from sklearn.metrics import mean_squared_error\n",
    "from sklearn.model_selection import train_test_split, GridSearchCV\n",
    "from sklearn import preprocessing"
   ]
  },
  {
   "cell_type": "code",
   "execution_count": 5,
   "metadata": {},
   "outputs": [
    {
     "data": {
      "text/html": [
       "<div>\n",
       "<style scoped>\n",
       "    .dataframe tbody tr th:only-of-type {\n",
       "        vertical-align: middle;\n",
       "    }\n",
       "\n",
       "    .dataframe tbody tr th {\n",
       "        vertical-align: top;\n",
       "    }\n",
       "\n",
       "    .dataframe thead th {\n",
       "        text-align: right;\n",
       "    }\n",
       "</style>\n",
       "<table border=\"1\" class=\"dataframe\">\n",
       "  <thead>\n",
       "    <tr style=\"text-align: right;\">\n",
       "      <th></th>\n",
       "      <th>year</th>\n",
       "      <th>ast</th>\n",
       "      <th>blk</th>\n",
       "      <th>dreb</th>\n",
       "      <th>ft_p</th>\n",
       "      <th>oreb</th>\n",
       "      <th>per</th>\n",
       "      <th>pf</th>\n",
       "      <th>pts</th>\n",
       "      <th>stl</th>\n",
       "      <th>three_p</th>\n",
       "      <th>to</th>\n",
       "      <th>ts</th>\n",
       "      <th>two_p</th>\n",
       "    </tr>\n",
       "    <tr>\n",
       "      <th>name</th>\n",
       "      <th></th>\n",
       "      <th></th>\n",
       "      <th></th>\n",
       "      <th></th>\n",
       "      <th></th>\n",
       "      <th></th>\n",
       "      <th></th>\n",
       "      <th></th>\n",
       "      <th></th>\n",
       "      <th></th>\n",
       "      <th></th>\n",
       "      <th></th>\n",
       "      <th></th>\n",
       "      <th></th>\n",
       "    </tr>\n",
       "  </thead>\n",
       "  <tbody>\n",
       "    <tr>\n",
       "      <th>a.c. green</th>\n",
       "      <td>0.000000</td>\n",
       "      <td>0.060997</td>\n",
       "      <td>0.068452</td>\n",
       "      <td>0.344639</td>\n",
       "      <td>0.738</td>\n",
       "      <td>0.443709</td>\n",
       "      <td>0.609181</td>\n",
       "      <td>0.315364</td>\n",
       "      <td>0.264831</td>\n",
       "      <td>0.241803</td>\n",
       "      <td>0.200</td>\n",
       "      <td>0.213362</td>\n",
       "      <td>0.522556</td>\n",
       "      <td>0.507</td>\n",
       "    </tr>\n",
       "    <tr>\n",
       "      <th>a.c. green</th>\n",
       "      <td>0.038462</td>\n",
       "      <td>0.100515</td>\n",
       "      <td>0.107143</td>\n",
       "      <td>0.498906</td>\n",
       "      <td>0.744</td>\n",
       "      <td>0.675497</td>\n",
       "      <td>0.645161</td>\n",
       "      <td>0.380054</td>\n",
       "      <td>0.394068</td>\n",
       "      <td>0.372951</td>\n",
       "      <td>0.214</td>\n",
       "      <td>0.239224</td>\n",
       "      <td>0.522556</td>\n",
       "      <td>0.495</td>\n",
       "    </tr>\n",
       "    <tr>\n",
       "      <th>a.c. green</th>\n",
       "      <td>0.076923</td>\n",
       "      <td>0.099656</td>\n",
       "      <td>0.116071</td>\n",
       "      <td>0.463895</td>\n",
       "      <td>0.739</td>\n",
       "      <td>0.633554</td>\n",
       "      <td>0.640199</td>\n",
       "      <td>0.401617</td>\n",
       "      <td>0.371116</td>\n",
       "      <td>0.360656</td>\n",
       "      <td>0.348</td>\n",
       "      <td>0.250000</td>\n",
       "      <td>0.566729</td>\n",
       "      <td>0.550</td>\n",
       "    </tr>\n",
       "    <tr>\n",
       "      <th>a.c. green</th>\n",
       "      <td>0.115385</td>\n",
       "      <td>0.117698</td>\n",
       "      <td>0.113095</td>\n",
       "      <td>0.522976</td>\n",
       "      <td>0.735</td>\n",
       "      <td>0.607064</td>\n",
       "      <td>0.648883</td>\n",
       "      <td>0.382749</td>\n",
       "      <td>0.425141</td>\n",
       "      <td>0.286885</td>\n",
       "      <td>0.229</td>\n",
       "      <td>0.215517</td>\n",
       "      <td>0.521617</td>\n",
       "      <td>0.513</td>\n",
       "    </tr>\n",
       "    <tr>\n",
       "      <th>a.c. green</th>\n",
       "      <td>0.153846</td>\n",
       "      <td>0.109107</td>\n",
       "      <td>0.092262</td>\n",
       "      <td>0.519694</td>\n",
       "      <td>0.732</td>\n",
       "      <td>0.428256</td>\n",
       "      <td>0.614144</td>\n",
       "      <td>0.393531</td>\n",
       "      <td>0.323446</td>\n",
       "      <td>0.225410</td>\n",
       "      <td>0.339</td>\n",
       "      <td>0.245690</td>\n",
       "      <td>0.560150</td>\n",
       "      <td>0.547</td>\n",
       "    </tr>\n",
       "  </tbody>\n",
       "</table>\n",
       "</div>"
      ],
      "text/plain": [
       "                year       ast       blk      dreb   ft_p      oreb       per  \\\n",
       "name                                                                            \n",
       "a.c. green  0.000000  0.060997  0.068452  0.344639  0.738  0.443709  0.609181   \n",
       "a.c. green  0.038462  0.100515  0.107143  0.498906  0.744  0.675497  0.645161   \n",
       "a.c. green  0.076923  0.099656  0.116071  0.463895  0.739  0.633554  0.640199   \n",
       "a.c. green  0.115385  0.117698  0.113095  0.522976  0.735  0.607064  0.648883   \n",
       "a.c. green  0.153846  0.109107  0.092262  0.519694  0.732  0.428256  0.614144   \n",
       "\n",
       "                  pf       pts       stl  three_p        to        ts  two_p  \n",
       "name                                                                          \n",
       "a.c. green  0.315364  0.264831  0.241803    0.200  0.213362  0.522556  0.507  \n",
       "a.c. green  0.380054  0.394068  0.372951    0.214  0.239224  0.522556  0.495  \n",
       "a.c. green  0.401617  0.371116  0.360656    0.348  0.250000  0.566729  0.550  \n",
       "a.c. green  0.382749  0.425141  0.286885    0.229  0.215517  0.521617  0.513  \n",
       "a.c. green  0.393531  0.323446  0.225410    0.339  0.245690  0.560150  0.547  "
      ]
     },
     "execution_count": 5,
     "metadata": {},
     "output_type": "execute_result"
    }
   ],
   "source": [
    "data = pd.read_csv('nba_player_year.csv')\n",
    "data.index = data['name']\n",
    "data.drop(['name'], axis=1, inplace=True)\n",
    "y_cl = data['salary_bucket']\n",
    "y = data['salary']\n",
    "x = data.drop(['salary', 'salary_bucket'], axis=1)\n",
    "x = (x - x.min())/(x.max() - x.min())\n",
    "x.head()"
   ]
  },
  {
   "cell_type": "code",
   "execution_count": 6,
   "metadata": {},
   "outputs": [
    {
     "data": {
      "text/plain": [
       "<matplotlib.text.Text at 0x115c49350>"
      ]
     },
     "execution_count": 6,
     "metadata": {},
     "output_type": "execute_result"
    },
    {
     "data": {
      "image/png": "[encoded data removed]",
      "text/plain": [
       "<matplotlib.figure.Figure at 0x11596f150>"
      ]
     },
     "metadata": {},
     "output_type": "display_data"
    }
   ],
   "source": [
    "# sns.countplot(x='rating_category', data=data).set_title(\"Chocolate\")\n",
    "\n",
    "# sns.countplot(x='quality_category', data=data).set_title(\"White Wine\")\n",
    "# plt.figure(figsize=[3,3])\n",
    "# sns.barplot(x = 'quality_category', y = 'sulphates', data = data).set_title(\"White Wine\")\n",
    "# sns.barplot(x = 'quality_category', y = 'pH', data = data).set_title(\"White Wine\")\n",
    "\n",
    "# plt.xticks(rotation=45)\n",
    "# sns.countplot(x='cocoa_pct', data=data)\n",
    "\n",
    "# fig, ax = plt.subplots(figsize=[13,4])\n",
    "# for i, c in data.groupby('is_domestic'):\n",
    "#     sns.distplot(c['rating_category'], ax=ax, label=['Not Domestic', 'Is Domestic'][i])\n",
    "\n",
    "# ax.set_title('Categorized Rating, Domesticity')\n",
    "# ax.legend()\n",
    "# plt.xlabel(\"Categorized Rating\")\n",
    "# plt.ylabel(\"Count\")\n",
    "plt.figure(figsize=(15,7))\n",
    "plt.xticks(rotation=45)\n",
    "plt.yticks(range(0, 10**8, 10**6))\n",
    "plt.ticklabel_format(style='plain', axis='y')\n",
    "sns.barplot(x='year', y='salary', data=data).set_title(\"Average Salary Year over Year\")"
   ]
  },
  {
   "cell_type": "code",
   "execution_count": 29,
   "metadata": {},
   "outputs": [
    {
     "data": {
      "text/plain": [
       "<matplotlib.text.Text at 0x115d54510>"
      ]
     },
     "execution_count": 29,
     "metadata": {},
     "output_type": "execute_result"
    },
    {
     "data": {
      "image/png": "[encoded data removed]",
      "text/plain": [
       "<matplotlib.figure.Figure at 0x1131ece10>"
      ]
     },
     "metadata": {},
     "output_type": "display_data"
    }
   ],
   "source": [
    "# sns.countplot(x='salary_bucket', data=data).set_title(\"Binned Salary\")\n",
    "plt.figure(figsize=[3,3])\n",
    "sns.barplot(x = 'salary_bucket', y = 'pts', data = data).set_title(\"Points\")\n"
   ]
  },
  {
   "cell_type": "code",
   "execution_count": null,
   "metadata": {},
   "outputs": [],
   "source": [
    "def data_sort(x, y):\n",
    "    idx = x.argsort()\n",
    "    return x[idx], y[idx]"
   ]
  },
  {
   "cell_type": "code",
   "execution_count": 80,
   "metadata": {},
   "outputs": [],
   "source": [
    "def plot_results(y_preds, yTe):\n",
    "    fig, ax = plt.subplots(figsize=(10, 5))\n",
    "    yTe, y_preds = data_sort(yTe, y_preds)\n",
    "    ax.plot(yTe, 'blue')\n",
    "    ax.plot(y_preds, 'r.')\n",
    "    ax.autoscale_view()\n",
    "    ax.grid = True\n",
    "\n",
    "def predict(model, sample_size, xTr, yTr, xTe, yTe):\n",
    "    '''\n",
    "        params:\n",
    "        - model: model to fit\n",
    "        - sample_size: number of samples to size\n",
    "        - xTr: training features\n",
    "        - yTr: training labels\n",
    "        - xTe: testing features\n",
    "        - yTe: testing labels\n",
    "    '''\n",
    "    print(\"Training {} on {} samples\".format(model.__class__.__name__, sample_size))\n",
    "    results = {}\n",
    "    \n",
    "    start = time.time()\n",
    "    model = model.fit(xTr[:sample_size], yTr[:sample_size])\n",
    "    end = time.time()\n",
    "\n",
    "    results['train_time'] = end - start\n",
    "    \n",
    "    start = time.time()\n",
    "    train_preds = model.predict(xTr[:300])\n",
    "    test_preds = model.predict(xTe)\n",
    "    end = time.time()\n",
    "    \n",
    "    results['prediction_time'] = end - start\n",
    "    \n",
    "    # Score by accuracy 1(pred_i != yTe_i)\n",
    "    results['acc_train'] = accuracy_score(yTr[:300], train_preds)\n",
    "    results['acc_test'] = accuracy_score(yTe, test_preds)\n",
    "\n",
    "    # Score by fbeta \n",
    "    results['f_train'] = fbeta_score(yTr[:300], train_preds, beta=0.5, average='micro')\n",
    "    results['f_test'] = fbeta_score(yTe, test_preds, beta=0.5, average='micro')\n",
    "    print(classification_report(yTe, test_preds))\n",
    "\n",
    "    if model.__class__.__name__ == \"RandomForestClassifier\":\n",
    "        try:\n",
    "            importances = model.feature_importances_\n",
    "\n",
    "            std = np.std([tree.feature_importances_ for tree in model.estimators_],\n",
    "                         axis=0)\n",
    "            indices = np.argsort(importances)[::-1]\n",
    "\n",
    "            plt.figure(figsize=(10,5))\n",
    "            plt.title(\"Chocolate Importance of Features\")\n",
    "            plt.bar(range(xTr.shape[1]), importances[indices],\n",
    "                   color=\"brown\", yerr=std[indices], align=\"center\")\n",
    "            plt.xticks(indices, xTr.columns, rotation=45)\n",
    "            plt.ylabel(\"Weights\")\n",
    "            plt.show()\n",
    "        except:\n",
    "            pass\n",
    "    \n",
    "    return results"
   ]
  },
  {
   "cell_type": "code",
   "execution_count": 79,
   "metadata": {},
   "outputs": [
    {
     "data": {
      "image/png": "[encoded data removed]",
      "text/plain": [
       "<matplotlib.figure.Figure at 0x11cccadd0>"
      ]
     },
     "metadata": {},
     "output_type": "display_data"
    }
   ],
   "source": [
    "from sklearn import decomposition\n",
    "\n",
    "pca = decomposition.PCA()\n",
    "pca.fit_transform(x)\n",
    "\n",
    "x_normalized = (x - x.mean())/x.std()\n",
    "pca_normalized = decomposition.PCA()\n",
    "pca_normalized.fit_transform(x_normalized)\n",
    "\n",
    "plt.figure(figsize=(10,6))\n",
    "plt.plot(np.cumsum([0] + list(pca_normalized.explained_variance_ratio_)), 'b')\n",
    "plt.title(\"PCA on Dataset\", fontsize=15)\n",
    "plt.xlabel(\"Number of Principal Components\", fontsize=13)\n",
    "plt.ylabel(\"Percent of Explained Variance\",fontsize=13)\n",
    "plt.grid()"
   ]
  },
  {
   "cell_type": "code",
   "execution_count": 103,
   "metadata": {},
   "outputs": [
    {
     "name": "stdout",
     "output_type": "stream",
     "text": [
      "Training DummyClassifier on 4133 samples\n",
      "             precision    recall  f1-score   support\n",
      "\n",
      "          1       0.00      0.00      0.00       412\n",
      "          2       0.00      0.00      0.00       429\n",
      "          3       0.00      0.00      0.00       465\n",
      "          4       0.26      1.00      0.42       466\n",
      "\n",
      "avg / total       0.07      0.26      0.11      1772\n",
      "\n",
      "Training LogisticRegression on 4133 samples\n",
      "             precision    recall  f1-score   support\n",
      "\n",
      "          1       0.47      0.61      0.53       412\n",
      "          2       0.37      0.41      0.39       429\n",
      "          3       0.39      0.19      0.26       465\n",
      "          4       0.56      0.65      0.61       466\n",
      "\n",
      "avg / total       0.45      0.46      0.44      1772\n",
      "\n",
      "Training KNeighborsClassifier on 4133 samples\n",
      "             precision    recall  f1-score   support\n",
      "\n",
      "          1       0.43      0.52      0.47       412\n",
      "          2       0.34      0.44      0.39       429\n",
      "          3       0.37      0.30      0.33       465\n",
      "          4       0.62      0.46      0.53       466\n",
      "\n",
      "avg / total       0.44      0.43      0.43      1772\n",
      "\n",
      "Training KNeighborsClassifier on 4133 samples\n",
      "             precision    recall  f1-score   support\n",
      "\n",
      "          1       0.46      0.52      0.49       412\n",
      "          2       0.34      0.44      0.38       429\n",
      "          3       0.35      0.28      0.31       465\n",
      "          4       0.61      0.50      0.55       466\n",
      "\n",
      "avg / total       0.44      0.43      0.43      1772\n",
      "\n",
      "Training DecisionTreeClassifier on 4133 samples\n",
      "             precision    recall  f1-score   support\n",
      "\n",
      "          1       0.00      0.00      0.00       412\n",
      "          2       0.28      0.86      0.42       429\n",
      "          3       0.00      0.00      0.00       465\n",
      "          4       0.54      0.51      0.52       466\n",
      "\n",
      "avg / total       0.21      0.34      0.24      1772\n",
      "\n",
      "Training SVC on 4133 samples\n",
      "             precision    recall  f1-score   support\n",
      "\n",
      "          1       0.48      0.61      0.53       412\n",
      "          2       0.36      0.43      0.39       429\n",
      "          3       0.38      0.27      0.32       465\n",
      "          4       0.62      0.53      0.57       466\n",
      "\n",
      "avg / total       0.46      0.46      0.45      1772\n",
      "\n",
      "Training SVC on 4133 samples\n",
      "             precision    recall  f1-score   support\n",
      "\n",
      "          1       0.51      0.54      0.53       412\n",
      "          2       0.36      0.42      0.39       429\n",
      "          3       0.39      0.33      0.36       465\n",
      "          4       0.65      0.60      0.62       466\n",
      "\n",
      "avg / total       0.48      0.47      0.47      1772\n",
      "\n",
      "Training RandomForestClassifier on 4133 samples\n",
      "             precision    recall  f1-score   support\n",
      "\n",
      "          1       0.48      0.53      0.51       412\n",
      "          2       0.34      0.39      0.36       429\n",
      "          3       0.34      0.29      0.32       465\n",
      "          4       0.61      0.56      0.58       466\n",
      "\n",
      "avg / total       0.45      0.44      0.44      1772\n",
      "\n"
     ]
    },
    {
     "data": {
      "image/png": "[encoded data removed]",
      "text/plain": [
       "<matplotlib.figure.Figure at 0x11688aa10>"
      ]
     },
     "metadata": {},
     "output_type": "display_data"
    },
    {
     "name": "stdout",
     "output_type": "stream",
     "text": [
      "Training RandomForestClassifier on 4133 samples\n",
      "             precision    recall  f1-score   support\n",
      "\n",
      "          1       0.54      0.50      0.51       412\n",
      "          2       0.35      0.44      0.39       429\n",
      "          3       0.39      0.33      0.36       465\n",
      "          4       0.62      0.62      0.62       466\n",
      "\n",
      "avg / total       0.48      0.47      0.47      1772\n",
      "\n"
     ]
    },
    {
     "data": {
      "image/png": "[encoded data removed]",
      "text/plain": [
       "<matplotlib.figure.Figure at 0x112edac50>"
      ]
     },
     "metadata": {},
     "output_type": "display_data"
    }
   ],
   "source": [
    "from sklearn.dummy import DummyClassifier\n",
    "from sklearn.ensemble import RandomForestClassifier\n",
    "from sklearn.naive_bayes import GaussianNB\n",
    "from sklearn.neighbors import KNeighborsClassifier\n",
    "from sklearn.tree import DecisionTreeClassifier\n",
    "from sklearn.linear_model import SGDClassifier, LogisticRegression\n",
    "from sklearn.svm import SVC\n",
    "\n",
    "def run_classifiers(xTr, xTe, yTr, yTe):\n",
    "    dummy = DummyClassifier(strategy='most_frequent')\n",
    "    rf = RandomForestClassifier()\n",
    "    opt_rf = RandomForestClassifier(n_estimators=500, random_state=15)\n",
    "    nb = GaussianNB()\n",
    "    knn = KNeighborsClassifier()\n",
    "    opt_knn = KNeighborsClassifier(n_neighbors=22)\n",
    "    dt = DecisionTreeClassifier(max_depth=1)\n",
    "    sgd = SGDClassifier()\n",
    "    lr = LogisticRegression()\n",
    "    svc = SVC()\n",
    "    opt_svc = SVC(C = 10, gamma = 1, kernel = 'rbf')\n",
    "\n",
    "    classifiers = [dummy, lr, knn, opt_knn, dt, svc, opt_svc, rf, opt_rf]\n",
    "#     classifiers = [dummy, rf]\n",
    "    # Sample 1%, 10%, 25%, 50%, and 100% of the training set\n",
    "    sample_pcts = [100]\n",
    "    sample_sizes = [int(len(xTr)*pct/100) for pct in sample_pcts]\n",
    "\n",
    "    results = {}\n",
    "    for classifier in classifiers:\n",
    "        classifier_name = classifier.__class__.__name__\n",
    "        results[classifier_name] = {}\n",
    "        for sample_size in sample_sizes:\n",
    "            results[classifier_name][sample_size] = predict(classifier, sample_size, xTr, yTr, xTe, yTe)\n",
    "    \n",
    "xTr, xTe, yTr, yTe = train_test_split(x, y_cl, test_size=0.3, random_state=1)\n",
    "\n",
    "run_classifiers(xTr, xTe, yTr, yTe)"
   ]
  },
  {
   "cell_type": "code",
   "execution_count": 86,
   "metadata": {},
   "outputs": [
    {
     "name": "stdout",
     "output_type": "stream",
     "text": [
      "Training DummyClassifier on 4133 samples\n",
      "             precision    recall  f1-score   support\n",
      "\n",
      "          1       0.00      0.00      0.00       412\n",
      "          2       0.00      0.00      0.00       429\n",
      "          3       0.00      0.00      0.00       465\n",
      "          4       0.26      1.00      0.42       466\n",
      "\n",
      "avg / total       0.07      0.26      0.11      1772\n",
      "\n",
      "Training RandomForestClassifier on 4133 samples\n",
      "             precision    recall  f1-score   support\n",
      "\n",
      "          1       0.45      0.48      0.46       412\n",
      "          2       0.34      0.41      0.37       429\n",
      "          3       0.36      0.32      0.34       465\n",
      "          4       0.59      0.51      0.54       466\n",
      "\n",
      "avg / total       0.43      0.43      0.43      1772\n",
      "\n"
     ]
    },
    {
     "data": {
      "image/png": "[encoded data removed]",
      "text/plain": [
       "<matplotlib.figure.Figure at 0x11d2e3090>"
      ]
     },
     "metadata": {},
     "output_type": "display_data"
    }
   ],
   "source": [
    "from sklearn import decomposition\n",
    "\n",
    "# Run PCA\n",
    "pca = decomposition.PCA(n_components=8)\n",
    "\n",
    "xTr, xTe, yTr, yTe = train_test_split(x, y_cl, test_size=0.3, random_state=1)\n",
    "\n",
    "xTr_pca = pca.fit_transform(xTr)\n",
    "xTe_pca = pca.transform(xTe)\n",
    "\n",
    "run_classifiers(xTr_pca, xTe_pca, yTr, yTe)"
   ]
  },
  {
   "cell_type": "code",
   "execution_count": 102,
   "metadata": {},
   "outputs": [
    {
     "data": {
      "text/plain": [
       "{'n_neighbors': 22}"
      ]
     },
     "execution_count": 102,
     "metadata": {},
     "output_type": "execute_result"
    }
   ],
   "source": [
    "# Improve on KNN\n",
    "from sklearn.neighbors import KNeighborsClassifier\n",
    "\n",
    "params = {\n",
    "    'n_neighbors': list(range(1, 30))\n",
    "}\n",
    "\n",
    "knn = KNeighborsClassifier()\n",
    "grid_knn = GridSearchCV(knn, param_grid=params, scoring='accuracy', cv=5, n_jobs=-1)\n",
    "grid_knn.fit(xTr, yTr)\n",
    "grid_knn.best_params_"
   ]
  },
  {
   "cell_type": "code",
   "execution_count": null,
   "metadata": {},
   "outputs": [],
   "source": [
    "# Improve on Random Forest\n",
    "from sklearn.ensemble import RandomForestClassifier\n",
    "from sklearn.metrics import make_scorer\n",
    "\n",
    "params = {\n",
    "    'n_estimators': [100, 200, 300, 500],\n",
    "    'random_state': [5, 10, 15, 20, 30]\n",
    "}\n",
    "\n",
    "scorer = make_scorer(fbeta_score, beta=0.5, average='micro')\n",
    "\n",
    "rf = RandomForestClassifier()\n",
    "grid_rf = GridSearchCV(rf, param_grid=params, scoring=scorer, cv=5, n_jobs=-1)\n",
    "grid_rf.fit(xTr, yTr)\n",
    "grid_rf.best_params_"
   ]
  },
  {
   "cell_type": "code",
   "execution_count": 99,
   "metadata": {},
   "outputs": [
    {
     "data": {
      "text/plain": [
       "{'C': 10, 'gamma': 1, 'kernel': 'rbf'}"
      ]
     },
     "execution_count": 99,
     "metadata": {},
     "output_type": "execute_result"
    }
   ],
   "source": [
    "# Improve on SVM\n",
    "from sklearn.svm import SVC\n",
    "\n",
    "params = {\n",
    "    'C': [0.1, 0.5, 1, 2, 10, 100],\n",
    "    'kernel': ['rbf', 'linear'],\n",
    "    'gamma': [0.01, 0.1, 0.5, 1, 5, 10]\n",
    "}\n",
    "\n",
    "svc = SVC()\n",
    "grid_svc = GridSearchCV(svc, param_grid=params, scoring='accuracy', cv=5, n_jobs=-1)\n",
    "grid_svc.fit(xTr, yTr)\n",
    "grid_svc.best_params_"
   ]
  },
  {
   "cell_type": "code",
   "execution_count": 22,
   "metadata": {},
   "outputs": [],
   "source": [
    "def plot_results(y_preds, yTe):\n",
    "    fig, ax = plt.subplots(figsize=(10, 5))\n",
    "    yTe, y_preds = data_sort(yTe, y_preds)\n",
    "    ax.plot(yTe, 'blue')\n",
    "    ax.plot(y_preds, 'r.')\n",
    "    ax.autoscale_view()\n",
    "    ax.grid = True\n",
    "\n",
    "def predict_reg(model, sample_size, xTr, yTr, xTe, yTe):\n",
    "    '''\n",
    "        params:\n",
    "        - model: model to fit\n",
    "        - sample_size: number of samples to size\n",
    "        - xTr: training features\n",
    "        - yTr: training labels\n",
    "        - xTe: testing features\n",
    "        - yTe: testing labels\n",
    "    '''\n",
    "    print(\"Training {} on {} samples\".format(model.__class__.__name__, sample_size))\n",
    "    results = {}\n",
    "    \n",
    "    start = time.time()\n",
    "    model = model.fit(xTr[:sample_size], yTr[:sample_size])\n",
    "    end = time.time()\n",
    "\n",
    "    results['train_time'] = end - start\n",
    "    \n",
    "    start = time.time()\n",
    "    train_preds = model.predict(xTr[:300])\n",
    "    test_preds = model.predict(xTe)\n",
    "    end = time.time()\n",
    "    \n",
    "    results['prediction_time'] = end - start\n",
    "    \n",
    "    # Score by accuracy 1(pred_i != yTe_i)\n",
    "    results['rmse_train'] = math.sqrt(mean_squared_error(yTr[:300], train_preds))\n",
    "    results['rmse_test'] = math.sqrt(mean_squared_error(yTe, test_preds))\n",
    "\n",
    "    print(\"{}: {}\".format(model.__class__.__name__, results['rmse_test']))\n",
    "\n",
    "    if model.__class__.__name__ == \"RandomForestRegressor\":\n",
    "        try:\n",
    "            importances = model.feature_importances_\n",
    "\n",
    "            std = np.std([tree.feature_importances_ for tree in model.estimators_],\n",
    "                         axis=0)\n",
    "            indices = np.argsort(importances)[::-1]\n",
    "\n",
    "            plt.figure(figsize=(10,5))\n",
    "            plt.title(\"Importance of Features\")\n",
    "            plt.bar(range(xTr.shape[1]), importances[indices],\n",
    "                     yerr=std[indices], align=\"center\")\n",
    "            plt.xticks(indices, xTr.columns, rotation=45)\n",
    "            plt.ylabel(\"Weights\")\n",
    "            plt.show()\n",
    "        except:\n",
    "            pass\n",
    "    \n",
    "    return results"
   ]
  },
  {
   "cell_type": "code",
   "execution_count": 92,
   "metadata": {},
   "outputs": [
    {
     "name": "stdout",
     "output_type": "stream",
     "text": [
      "Training DummyRegressor on 4133 samples\n",
      "DummyRegressor: 5366840.8523\n",
      "Training KNeighborsRegressor on 4133 samples\n",
      "KNeighborsRegressor: 3648595.86751\n",
      "Training KNeighborsRegressor on 4133 samples\n",
      "KNeighborsRegressor: 3605439.53758\n",
      "Training DecisionTreeRegressor on 4133 samples\n",
      "DecisionTreeRegressor: 4498822.25738\n",
      "Training SGDRegressor on 4133 samples\n",
      "SGDRegressor: 4051327.97678\n",
      "Training LinearRegression on 4133 samples\n",
      "LinearRegression: 3650656.33875\n",
      "Training SVR on 4133 samples\n",
      "SVR: 5366816.79797\n",
      "Training SVR on 4133 samples\n",
      "SVR: 4060242.69958\n",
      "Training RandomForestRegressor on 4133 samples\n",
      "RandomForestRegressor: 3477399.17633\n"
     ]
    },
    {
     "data": {
      "image/png": "[encoded data removed]",
      "text/plain": [
       "<matplotlib.figure.Figure at 0x11a241f10>"
      ]
     },
     "metadata": {},
     "output_type": "display_data"
    },
    {
     "name": "stdout",
     "output_type": "stream",
     "text": [
      "Training RandomForestRegressor on 4133 samples\n",
      "RandomForestRegressor: 3223787.95076\n"
     ]
    },
    {
     "data": {
      "image/png": "[encoded data removed]",
      "text/plain": [
       "<matplotlib.figure.Figure at 0x115b8dcd0>"
      ]
     },
     "metadata": {},
     "output_type": "display_data"
    }
   ],
   "source": [
    "from sklearn.dummy import DummyRegressor\n",
    "from sklearn.ensemble import RandomForestRegressor\n",
    "from sklearn.neighbors import KNeighborsRegressor\n",
    "from sklearn.tree import DecisionTreeRegressor\n",
    "from sklearn.linear_model import SGDRegressor, LinearRegression\n",
    "from sklearn.svm import SVR\n",
    "\n",
    "def run_regressors(xTr, xTe, yTr, yTe):\n",
    "    dummy = DummyRegressor(strategy='median')\n",
    "    rf = RandomForestRegressor()\n",
    "    opt_rf = RandomForestRegressor(n_estimators=250, random_state=30)\n",
    "    knn = KNeighborsRegressor()\n",
    "    opt_knn = KNeighborsRegressor(n_neighbors=8)\n",
    "    dt = DecisionTreeRegressor(max_depth=1)\n",
    "    sgd = SGDRegressor()\n",
    "    lin_reg = LinearRegression()\n",
    "    svr = SVR()\n",
    "    opt_svr = SVR(C = 100000, gamma = 1, kernel = 'rbf')\n",
    "\n",
    "    classifiers = [dummy, knn, opt_knn, dt, sgd, lin_reg, svr, opt_svr, rf, opt_rf]\n",
    "#     classifiers = [opt_rf]\n",
    "    # Sample 1%, 10%, 25%, 50%, and 100% of the training set\n",
    "    sample_pcts = [100]\n",
    "    sample_sizes = [int(len(xTr)*pct/100) for pct in sample_pcts]\n",
    "\n",
    "    results = {}\n",
    "    for classifier in classifiers:\n",
    "        classifier_name = classifier.__class__.__name__\n",
    "        results[classifier_name] = {}\n",
    "        for sample_size in sample_sizes:\n",
    "            results[classifier_name][sample_size] = predict_reg(classifier, sample_size, xTr, yTr, xTe, yTe)\n",
    "    \n",
    "    # return results\n",
    "    \n",
    "xTr, xTe, yTr, yTe = train_test_split(x, y, test_size=0.3, random_state=1)\n",
    "run_regressors(xTr, xTe, yTr, yTe)"
   ]
  },
  {
   "cell_type": "code",
   "execution_count": 93,
   "metadata": {},
   "outputs": [
    {
     "name": "stdout",
     "output_type": "stream",
     "text": [
      "Training DummyRegressor on 4133 samples\n",
      "DummyRegressor: 5366840.8523\n",
      "Training KNeighborsRegressor on 4133 samples\n",
      "KNeighborsRegressor: 3669846.38382\n",
      "Training KNeighborsRegressor on 4133 samples\n",
      "KNeighborsRegressor: 3628418.86376\n",
      "Training DecisionTreeRegressor on 4133 samples\n",
      "DecisionTreeRegressor: 4629516.24063\n",
      "Training SGDRegressor on 4133 samples\n",
      "SGDRegressor: 4028638.36435\n",
      "Training LinearRegression on 4133 samples\n",
      "LinearRegression: 3756947.34692\n",
      "Training SVR on 4133 samples\n",
      "SVR: 5366800.59549\n",
      "Training SVR on 4133 samples\n",
      "SVR: 4059958.45922\n",
      "Training RandomForestRegressor on 4133 samples\n",
      "RandomForestRegressor: 3571983.1955\n",
      "Training RandomForestRegressor on 4133 samples\n",
      "RandomForestRegressor: 3383830.49749\n"
     ]
    },
    {
     "data": {
      "image/png": "[encoded data removed]",
      "text/plain": [
       "<matplotlib.figure.Figure at 0x1195f0f10>"
      ]
     },
     "metadata": {},
     "output_type": "display_data"
    },
    {
     "data": {
      "image/png": "[encoded data removed]",
      "text/plain": [
       "<matplotlib.figure.Figure at 0x1131994d0>"
      ]
     },
     "metadata": {},
     "output_type": "display_data"
    }
   ],
   "source": [
    "from sklearn import decomposition\n",
    "\n",
    "# Run PCA\n",
    "pca = decomposition.PCA(n_components=8)\n",
    "\n",
    "xTr, xTe, yTr, yTe = train_test_split(x, y, test_size=0.3, random_state=1)\n",
    "\n",
    "xTr_pca = pca.fit_transform(xTr)\n",
    "xTe_pca = pca.transform(xTe)\n",
    "\n",
    "run_regressors(xTr_pca, xTe_pca, yTr, yTe)"
   ]
  },
  {
   "cell_type": "code",
   "execution_count": 77,
   "metadata": {},
   "outputs": [
    {
     "data": {
      "text/plain": [
       "<matplotlib.legend.Legend at 0x11d02dc10>"
      ]
     },
     "execution_count": 77,
     "metadata": {},
     "output_type": "execute_result"
    },
    {
     "data": {
      "image/png": "[encoded data removed]",
      "text/plain": [
       "<matplotlib.figure.Figure at 0x11c9e1190>"
      ]
     },
     "metadata": {},
     "output_type": "display_data"
    }
   ],
   "source": [
    "plt.figure(figsize=[10, 5])\n",
    "plt.xlabel('Number of Principal Components')\n",
    "plt.xticks(list(range(1, 15)))\n",
    "plt.ylabel(\"Root Mean Squared Error\")\n",
    "plt.title('Random Forest PC vs Error')\n",
    "tr, = plt.plot(train_err)\n",
    "te, = plt.plot(test_err)\n",
    "plt.legend([tr, te], [\"Training Error\", \"Testing Error\"])"
   ]
  },
  {
   "cell_type": "code",
   "execution_count": null,
   "metadata": {},
   "outputs": [],
   "source": [
    "# Improve on SVM\n",
    "from sklearn.svm import SVR\n",
    "\n",
    "params = {\n",
    "    'C': [0.1, 1, 10, 100, 1000, 10000, 100000],\n",
    "    'kernel': ['poly','rbf'],\n",
    "    'gamma': [0.0001, 0.001, 0.01, 0.1, 1, 10, 100]\n",
    "}\n",
    "# {'kernel': 'rbf', 'C': 100000, 'gamma': 1}\n",
    "svr = SVR()\n",
    "grid_svr = GridSearchCV(svr, param_grid=params, scoring='neg_mean_squared_error', cv=5, n_jobs=-1)\n",
    "grid_svr.fit(xTr, yTr)\n",
    "print(grid_svr.best_params_)"
   ]
  },
  {
   "cell_type": "code",
   "execution_count": null,
   "metadata": {},
   "outputs": [],
   "source": [
    "# Improve on KNN\n",
    "from sklearn.neighbors import KNeighborsRegressor\n",
    "\n",
    "params = {\n",
    "    'n_neighbors': list(range(1, 25))\n",
    "}\n",
    "\n",
    "knn = KNeighborsRegressor()\n",
    "grid = GridSearchCV(knn, param_grid=params, scoring='neg_mean_squared_error', cv=5, n_jobs=-1)\n",
    "grid.fit(xTr, yTr)\n",
    "print(grid.best_params_)"
   ]
  },
  {
   "cell_type": "code",
   "execution_count": null,
   "metadata": {},
   "outputs": [],
   "source": [
    "# Improve on Random Forest\n",
    "from sklearn.ensemble import RandomForestRegressor\n",
    "\n",
    "params = {\n",
    "    'n_estimators': [100, 500],\n",
    "    'max_features': ['auto', 10],\n",
    "    'random_state': [30]\n",
    "}\n",
    "\n",
    "rf = RandomForestRegressor()\n",
    "grid = GridSearchCV(rf, param_grid=params, scoring='neg_mean_squared_error', cv=5, n_jobs=-1)\n",
    "grid.fit(xTr, yTr)\n",
    "print(grid.best_params_)"
   ]
  },
  {
   "cell_type": "code",
   "execution_count": null,
   "metadata": {},
   "outputs": [],
   "source": []
  }
 ],
 "metadata": {
  "kernelspec": {
   "display_name": "Python 2",
   "language": "python",
   "name": "python2"
  },
  "language_info": {
   "codemirror_mode": {
    "name": "ipython",
    "version": 2
   },
   "file_extension": ".py",
   "mimetype": "text/x-python",
   "name": "python",
   "nbconvert_exporter": "python",
   "pygments_lexer": "ipython2",
   "version": "2.7.10"
  }
 },
 "nbformat": 4,
 "nbformat_minor": 2
}
