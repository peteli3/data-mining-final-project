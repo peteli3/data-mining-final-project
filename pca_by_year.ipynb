{
 "cells": [
  {
   "cell_type": "code",
   "execution_count": 24,
   "metadata": {},
   "outputs": [],
   "source": [
    "import json\n",
    "import pprint\n",
    "\n",
    "pp = pprint.PrettyPrinter(indent=4, width = 500)"
   ]
  },
  {
   "cell_type": "code",
   "execution_count": 25,
   "metadata": {},
   "outputs": [],
   "source": [
    "YEAR_CHOSEN = 2010"
   ]
  },
  {
   "cell_type": "code",
   "execution_count": 30,
   "metadata": {},
   "outputs": [
    {
     "name": "stdout",
     "output_type": "stream",
     "text": [
      "7390\n",
      "['a.c. green', 1991, 1750000, 71, 23, 315, 0.738, 201, 13.8, 117, 750, 59, 0.2, 99, 0.556, 0.507]\n",
      "['a.c. green', 1992, 1750000, 117, 36, 456, 0.744, 306, 16.7, 141, 1116, 91, 0.214, 111, 0.556, 0.495]\n",
      "['a.c. green', 1993, 1885000, 116, 39, 424, 0.739, 287, 16.3, 149, 1051, 88, 0.348, 116, 0.603, 0.55]\n"
     ]
    }
   ],
   "source": [
    "big_dataset = []\n",
    "\n",
    "with open('nba.json', 'r') as file:\n",
    "    data = json.load(file)\n",
    "\n",
    "for player, player_obj in data.items():\n",
    "    player_data = []\n",
    "    player_name = player_obj['name']\n",
    "    salary_by_year_end = player_obj['salary_by_year_end']\n",
    "    stats_by_year_end = player_obj['stats_by_year_end']\n",
    "    year_ends_played = player_obj['year_ends_played']\n",
    "    for year_end in year_ends_played:\n",
    "        player_year_data = [player_name]\n",
    "        player_year_data.append(year_end)\n",
    "        \n",
    "        if str(year_end + 1) in salary_by_year_end:\n",
    "            player_year_data.append(int(salary_by_year_end[str(year_end + 1)]))\n",
    "        else:\n",
    "            player_year_data.append(None)\n",
    "            \n",
    "        if str(year_end) in stats_by_year_end:\n",
    "            for stat, val in stats_by_year_end[str(year_end)].items():\n",
    "                player_year_data.append(val)\n",
    "        else:\n",
    "            for i in range(13):\n",
    "                player_year_data.append(None)\n",
    "            \n",
    "        player_data.append(player_year_data)\n",
    "    big_dataset += player_data\n",
    "\n",
    "# pp.pprint(player_data)\n",
    "print(len(big_dataset))\n",
    "print(big_dataset[0])\n",
    "print(big_dataset[1])\n",
    "print(big_dataset[2])\n",
    "\n",
    "player_year_data = [player_year for player_year in big_dataset if None not in player_year]\n",
    "\n",
    "with open('nba_player_year.json', 'w') as file:\n",
    "    json.dump(big_dataset, file)\n",
    "\n",
    "# DONT CHANGE THIS SHIT TOO MUCH\n",
    "# each row = (0 NAME, 1 YEAR, 2 SALARY, 3 AST, 4 BLK, 5 DREB, 6 FT_P, 7 OREB, 8 PER, 9 PF, 10 PTS, 11 STL, \n",
    "#             12 THREE_P, 13 TO, 14 TS, 15 TWO_P)\n",
    "\n",
    "# pp.pprint(big_dataset)"
   ]
  },
  {
   "cell_type": "code",
   "execution_count": 11,
   "metadata": {},
   "outputs": [],
   "source": [
    "from sklearn import decomposition\n",
    "import numpy as np"
   ]
  },
  {
   "cell_type": "code",
   "execution_count": 17,
   "metadata": {},
   "outputs": [
    {
     "name": "stdout",
     "output_type": "stream",
     "text": [
      "['315' '0.738' '201' '13.8' '117' '750' '59' '0.2' '99' '0.556' '0.507']\n"
     ]
    },
    {
     "ename": "TypeError",
     "evalue": "unsupported operand type(s) for /: 'str' and 'int'",
     "output_type": "error",
     "traceback": [
      "\u001b[0;31m---------------------------------------------------------------------------\u001b[0m",
      "\u001b[0;31mTypeError\u001b[0m                                 Traceback (most recent call last)",
      "\u001b[0;32m<ipython-input-17-728d25d1252c>\u001b[0m in \u001b[0;36m<module>\u001b[0;34m()\u001b[0m\n\u001b[1;32m      5\u001b[0m \u001b[0;34m\u001b[0m\u001b[0m\n\u001b[1;32m      6\u001b[0m \u001b[0mprint\u001b[0m\u001b[0;34m(\u001b[0m\u001b[0mbig_dataset\u001b[0m\u001b[0;34m[\u001b[0m\u001b[0;36m0\u001b[0m\u001b[0;34m]\u001b[0m\u001b[0;34m)\u001b[0m\u001b[0;34m\u001b[0m\u001b[0m\n\u001b[0;32m----> 7\u001b[0;31m \u001b[0mx_normalized\u001b[0m \u001b[0;34m=\u001b[0m \u001b[0;34m(\u001b[0m\u001b[0mbig_dataset\u001b[0m \u001b[0;34m-\u001b[0m \u001b[0mbig_dataset\u001b[0m\u001b[0;34m.\u001b[0m\u001b[0mmean\u001b[0m\u001b[0;34m(\u001b[0m\u001b[0;34m)\u001b[0m\u001b[0;34m)\u001b[0m\u001b[0;34m/\u001b[0m\u001b[0mbig_dataset\u001b[0m\u001b[0;34m.\u001b[0m\u001b[0mstd\u001b[0m\u001b[0;34m(\u001b[0m\u001b[0;34m)\u001b[0m\u001b[0;34m\u001b[0m\u001b[0m\n\u001b[0m\u001b[1;32m      8\u001b[0m \u001b[0mpca_normalized\u001b[0m \u001b[0;34m=\u001b[0m \u001b[0mdecomposition\u001b[0m\u001b[0;34m.\u001b[0m\u001b[0mPCA\u001b[0m\u001b[0;34m(\u001b[0m\u001b[0;34m)\u001b[0m\u001b[0;34m\u001b[0m\u001b[0m\n\u001b[1;32m      9\u001b[0m \u001b[0mpca_normalized\u001b[0m\u001b[0;34m.\u001b[0m\u001b[0mfit_transform\u001b[0m\u001b[0;34m(\u001b[0m\u001b[0mx_normalized\u001b[0m\u001b[0;34m)\u001b[0m\u001b[0;34m\u001b[0m\u001b[0m\n",
      "\u001b[0;32m~/anaconda3/lib/python3.6/site-packages/numpy/core/_methods.py\u001b[0m in \u001b[0;36m_mean\u001b[0;34m(a, axis, dtype, out, keepdims)\u001b[0m\n\u001b[1;32m     80\u001b[0m             \u001b[0mret\u001b[0m \u001b[0;34m=\u001b[0m \u001b[0mret\u001b[0m\u001b[0;34m.\u001b[0m\u001b[0mdtype\u001b[0m\u001b[0;34m.\u001b[0m\u001b[0mtype\u001b[0m\u001b[0;34m(\u001b[0m\u001b[0mret\u001b[0m \u001b[0;34m/\u001b[0m \u001b[0mrcount\u001b[0m\u001b[0;34m)\u001b[0m\u001b[0;34m\u001b[0m\u001b[0m\n\u001b[1;32m     81\u001b[0m     \u001b[0;32melse\u001b[0m\u001b[0;34m:\u001b[0m\u001b[0;34m\u001b[0m\u001b[0m\n\u001b[0;32m---> 82\u001b[0;31m         \u001b[0mret\u001b[0m \u001b[0;34m=\u001b[0m \u001b[0mret\u001b[0m \u001b[0;34m/\u001b[0m \u001b[0mrcount\u001b[0m\u001b[0;34m\u001b[0m\u001b[0m\n\u001b[0m\u001b[1;32m     83\u001b[0m \u001b[0;34m\u001b[0m\u001b[0m\n\u001b[1;32m     84\u001b[0m     \u001b[0;32mreturn\u001b[0m \u001b[0mret\u001b[0m\u001b[0;34m\u001b[0m\u001b[0m\n",
      "\u001b[0;31mTypeError\u001b[0m: unsupported operand type(s) for /: 'str' and 'int'"
     ]
    }
   ],
   "source": [
    "# perform pca\n",
    "big_dataset = np.array([np.array(entry[1:]) for entry in big_dataset if None not in entry])\n",
    "pca = decomposition.PCA()\n",
    "pca.fit_transform(big_dataset)\n",
    "\n",
    "print(big_dataset[0])\n",
    "x_normalized = (big_dataset - big_dataset.mean())/big_dataset.std()\n",
    "pca_normalized = decomposition.PCA()\n",
    "pca_normalized.fit_transform(x_normalized)\n",
    "\n",
    "# plot pca variance explained\n"
   ]
  },
  {
   "cell_type": "code",
   "execution_count": null,
   "metadata": {},
   "outputs": [],
   "source": []
  }
 ],
 "metadata": {
  "kernelspec": {
   "display_name": "Python 3",
   "language": "python",
   "name": "python3"
  },
  "language_info": {
   "codemirror_mode": {
    "name": "ipython",
    "version": 3
   },
   "file_extension": ".py",
   "mimetype": "text/x-python",
   "name": "python",
   "nbconvert_exporter": "python",
   "pygments_lexer": "ipython3",
   "version": "3.6.4"
  }
 },
 "nbformat": 4,
 "nbformat_minor": 2
}
