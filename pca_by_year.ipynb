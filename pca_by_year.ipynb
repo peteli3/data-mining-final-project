{
 "cells": [
  {
   "cell_type": "code",
   "execution_count": 17,
   "metadata": {},
   "outputs": [],
   "source": [
    "import sklearn\n",
    "import json\n",
    "import pprint\n",
    "\n",
    "pp = pprint.PrettyPrinter(indent=4)"
   ]
  },
  {
   "cell_type": "code",
   "execution_count": 18,
   "metadata": {},
   "outputs": [],
   "source": [
    "YEAR_CHOSEN = 2010"
   ]
  },
  {
   "cell_type": "code",
   "execution_count": 57,
   "metadata": {},
   "outputs": [
    {
     "name": "stdout",
     "output_type": "stream",
     "text": [
      "6182\n"
     ]
    }
   ],
   "source": [
    "big_dataset = []\n",
    "\n",
    "with open('nba.json', 'r') as file:\n",
    "    data = json.load(file)\n",
    "\n",
    "for player, player_obj in data.items():\n",
    "    player_data = []\n",
    "    salary_by_year_end = player_obj['salary_by_year_end']\n",
    "    stats_by_year_end = player_obj['stats_by_year_end']\n",
    "    year_ends_played = player_obj['year_ends_played']\n",
    "    for year_end in year_ends_played:\n",
    "        player_year_data = []\n",
    "        player_year_data.append(year_end)\n",
    "        \n",
    "        if str(year_end) in salary_by_year_end:\n",
    "            player_year_data.append(int(salary_by_year_end[str(year_end)]))\n",
    "        else:\n",
    "            player_year_data.append(None)\n",
    "            \n",
    "        if str(year_end) in stats_by_year_end:\n",
    "            for stat, val in stats_by_year_end[str(year_end)].items():\n",
    "                player_year_data.append(val)\n",
    "        else:\n",
    "            for i in range(13):\n",
    "                player_year_data.append(None)\n",
    "        \n",
    "#         print(player_year_data)\n",
    "        player_data.append(player_year_data)\n",
    "    big_dataset += player_data\n",
    "\n",
    "# pp.pprint(player_data)\n",
    "print(len(big_dataset))\n",
    "\n",
    "# each row = (YEAR, SALARY, AST, BLK, DREB, FT_P, OREB, PER, PF, PTS, STL, THREE_P, TO, TS, TWO_P)\n",
    "# pp.pprint(big_dataset)"
   ]
  },
  {
   "cell_type": "code",
   "execution_count": null,
   "metadata": {},
   "outputs": [],
   "source": []
  }
 ],
 "metadata": {
  "kernelspec": {
   "display_name": "Python 3",
   "language": "python",
   "name": "python3"
  },
  "language_info": {
   "codemirror_mode": {
    "name": "ipython",
    "version": 3
   },
   "file_extension": ".py",
   "mimetype": "text/x-python",
   "name": "python",
   "nbconvert_exporter": "python",
   "pygments_lexer": "ipython3",
   "version": "3.6.4"
  }
 },
 "nbformat": 4,
 "nbformat_minor": 2
}
