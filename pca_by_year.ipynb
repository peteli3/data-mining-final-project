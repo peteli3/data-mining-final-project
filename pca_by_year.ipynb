{
 "cells": [
  {
   "cell_type": "code",
   "execution_count": 1,
   "metadata": {},
   "outputs": [],
   "source": [
    "import sklearn\n",
    "import json\n",
    "import pprint\n",
    "\n",
    "pp = pprint.PrettyPrinter(indent=4)"
   ]
  },
  {
   "cell_type": "code",
   "execution_count": 2,
   "metadata": {},
   "outputs": [],
   "source": [
    "YEAR_CHOSEN = 2010"
   ]
  },
  {
   "cell_type": "code",
   "execution_count": 3,
   "metadata": {},
   "outputs": [
    {
     "name": "stdout",
     "output_type": "stream",
     "text": [
      "7390\n",
      "['a.c. green', 1991, 1750000, 71, 23, 315, 0.738, 201, 13.8, 117, 750, 59, 0.2, 99, 0.556, 0.507]\n",
      "['a.c. green', 1992, 1750000, 117, 36, 456, 0.744, 306, 16.7, 141, 1116, 91, 0.214, 111, 0.556, 0.495]\n"
     ]
    }
   ],
   "source": [
    "big_dataset = []\n",
    "\n",
    "with open('nba.json', 'r') as file:\n",
    "    data = json.load(file)\n",
    "\n",
    "for player, player_obj in data.items():\n",
    "    player_data = []\n",
    "    player_name = player_obj['name']\n",
    "    salary_by_year_end = player_obj['salary_by_year_end']\n",
    "    stats_by_year_end = player_obj['stats_by_year_end']\n",
    "    year_ends_played = player_obj['year_ends_played']\n",
    "    for year_end in year_ends_played:\n",
    "        player_year_data = [player_name]\n",
    "        player_year_data.append(year_end)\n",
    "        \n",
    "        if str(year_end) in salary_by_year_end:\n",
    "            player_year_data.append(int(salary_by_year_end[str(year_end)]))\n",
    "        else:\n",
    "            player_year_data.append(None)\n",
    "            \n",
    "        if str(year_end) in stats_by_year_end:\n",
    "            for stat, val in stats_by_year_end[str(year_end)].items():\n",
    "                player_year_data.append(val)\n",
    "        else:\n",
    "            for i in range(13):\n",
    "                player_year_data.append(None)\n",
    "        \n",
    "#         print(player_year_data)\n",
    "        player_data.append(player_year_data)\n",
    "    big_dataset += player_data\n",
    "\n",
    "# pp.pprint(player_data)\n",
    "print(len(big_dataset))\n",
    "print(big_dataset[0])\n",
    "print(big_dataset[1])\n",
    "\n",
    "# each row = (0 YEAR, SALARY, AST, BLK, DREB, FT_P, OREB, PER, PF, PTS, STL, THREE_P, TO, TS, TWO_P)\n",
    "# pp.pprint(big_dataset)"
   ]
  },
  {
   "cell_type": "code",
   "execution_count": null,
   "metadata": {},
   "outputs": [],
   "source": []
  }
 ],
 "metadata": {
  "kernelspec": {
   "display_name": "Python 2",
   "language": "python",
   "name": "python2"
  },
  "language_info": {
   "codemirror_mode": {
    "name": "ipython",
    "version": 2
   },
   "file_extension": ".py",
   "mimetype": "text/x-python",
   "name": "python",
   "nbconvert_exporter": "python",
   "pygments_lexer": "ipython2",
   "version": "2.7.10"
  }
 },
 "nbformat": 4,
 "nbformat_minor": 2
}
