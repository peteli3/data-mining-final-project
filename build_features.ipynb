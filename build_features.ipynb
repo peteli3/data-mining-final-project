{
 "cells": [
  {
   "cell_type": "code",
   "execution_count": 1,
   "metadata": {},
   "outputs": [],
   "source": [
    "import json\n",
    "import pprint\n",
    "import csv\n",
    "\n",
    "pp = pprint.PrettyPrinter(indent=4, width = 700)"
   ]
  },
  {
   "cell_type": "code",
   "execution_count": 2,
   "metadata": {},
   "outputs": [],
   "source": [
    "NUM_BUCKETS = 4"
   ]
  },
  {
   "cell_type": "code",
   "execution_count": 3,
   "metadata": {},
   "outputs": [
    {
     "name": "stdout",
     "output_type": "stream",
     "text": [
      "[2.5, 5.0, 7.5, 10.0]\n"
     ]
    }
   ],
   "source": [
    "import numpy as np\n",
    "\n",
    "def find_cutoffs_by_num_buckets(data, num_buckets):\n",
    "    sorted_data = np.array(sorted(data))\n",
    "    percents_per_bucket = 100 / num_buckets\n",
    "    percentiles = list()\n",
    "    start = 0\n",
    "    for bucket in range(num_buckets):\n",
    "        start += percents_per_bucket\n",
    "        if bucket == num_buckets - 1:\n",
    "            start = min(100, start)\n",
    "        percentiles.append(start)\n",
    "        \n",
    "    cutoffs = list()\n",
    "    for percentile in percentiles:\n",
    "        cutoffs.append(np.percentile(sorted_data, percentile))\n",
    "    \n",
    "    return cutoffs\n",
    "    \n",
    "print(find_cutoffs_by_num_buckets([0,1,2,3,4,5,6,7,8,9,10], 4))"
   ]
  },
  {
   "cell_type": "code",
   "execution_count": 4,
   "metadata": {},
   "outputs": [],
   "source": [
    "player_data_by_year = []\n",
    "\n",
    "with open('nba.json', 'r') as file:\n",
    "    data = json.load(file)"
   ]
  },
  {
   "cell_type": "code",
   "execution_count": 5,
   "metadata": {},
   "outputs": [
    {
     "name": "stdout",
     "output_type": "stream",
     "text": [
      "{   '1991': [500000.0, 850000.0, 1400000.0, 4250000.0],\n",
      "    '1992': [518750.0, 941000.0, 1662500.0, 3786000.0],\n",
      "    '1993': [625000.0, 1100000.0, 1900000.0, 5720000.0],\n",
      "    '1994': [739500.0, 1265500.0, 2271500.0, 5740000.0],\n",
      "    '1995': [845000.0, 1500000.0, 2587475.0, 7300000.0],\n",
      "    '1996': [955000.0, 1702000.0, 2881500.0, 18724000.0],\n",
      "    '1997': [876000.0, 1703000.0, 3087500.0, 30140000.0],\n",
      "    '1998': [999430.0, 1933440.0, 3466125.0, 33140000.0],\n",
      "    '1999': [1000000.0, 1923000.0, 3725000.0, 18500000.0],\n",
      "    '2000': [1100000.0, 2000000.0, 4082500.0, 17142858.0],\n",
      "    '2001': [1200000.0, 2290000.0, 4806012.5, 19610000.0],\n",
      "    '2002': [1188810.0, 2746752.5, 5312500.0, 22400000.0],\n",
      "    '2003': [1100000.0, 3000000.0, 5694231.0, 25200000.0],\n",
      "    '2004': [1070000.0, 2940625.0, 5832812.5, 28000000.0],\n",
      "    '2005': [1504272.0, 3371393.0, 6187500.0, 27696430.0],\n",
      "    '2006': [1661250.75, 3500000.0, 6850328.75, 20000000.0],\n",
      "    '2007': [1750000.0, 3661207.0, 6807000.0, 21000000.0],\n",
      "    '2008': [1868141.0, 4125000.0, 8091188.0, 20000000.0],\n",
      "    '2009': [1796378.25, 4005002.5, 8364750.0, 24751934.0],\n",
      "    '2010': [1737840.0, 3875650.0, 7537500.0, 23239562.0],\n",
      "    '2011': [1717300.0, 4000000.0, 7612500.0, 24806250.0],\n",
      "    '2012': [2038559.5, 4000000.0, 7750000.0, 25244493.0],\n",
      "    '2013': [2216020.0, 4020000.0, 8434091.0, 27849149.0],\n",
      "    '2014': [2705656.25, 5150000.0, 9278746.0, 30453805.0],\n",
      "    '2015': [2442455.0, 5305000.0, 9500000.0, 23500000.0],\n",
      "    '2016': [2100000.0, 5184269.5, 10523876.75, 25000000.0],\n",
      "    '2017': [2281605.0, 6540000.0, 12500000.0, 30963450.0],\n",
      "    '2018': [2328652.0, 7692308.0, 16250000.0, 34682550.0]}\n"
     ]
    }
   ],
   "source": [
    "all_salaries_by_year = dict()\n",
    "for player, player_obj in data.items():\n",
    "    salary_by_year_end = player_obj['salary_by_year_end']\n",
    "    for year, salary in salary_by_year_end.items():\n",
    "        if year not in all_salaries_by_year:\n",
    "            all_salaries_by_year[year] = [salary]\n",
    "        else:\n",
    "            all_salaries_by_year[year].append(salary)\n",
    "\n",
    "cutoffs_by_year = dict() # year : [NUM_BUCKETS items for cutoffs]\n",
    "for year, all_salaries in all_salaries_by_year.items():\n",
    "    all_salaries = [int(salary) for salary in all_salaries]\n",
    "    cutoffs = find_cutoffs_by_num_buckets(all_salaries, NUM_BUCKETS)\n",
    "    cutoffs_by_year[year] = cutoffs\n",
    "\n",
    "pp.pprint(cutoffs_by_year)"
   ]
  },
  {
   "cell_type": "code",
   "execution_count": 6,
   "metadata": {},
   "outputs": [
    {
     "name": "stdout",
     "output_type": "stream",
     "text": [
      "7390\n",
      "['a.c. green', 1991, 1750000, 4, 71, 23, 315, 0.738, 201, 13.8, 117, 750, 59, 0.2, 99, 0.556, 0.507]\n",
      "['a.c. green', 1992, 1750000, 3, 117, 36, 456, 0.744, 306, 16.7, 141, 1116, 91, 0.214, 111, 0.556, 0.495]\n",
      "['a.c. green', 1993, 1885000, 3, 116, 39, 424, 0.739, 287, 16.3, 149, 1051, 88, 0.348, 116, 0.603, 0.55]\n",
      "0 wrong entries for quartile\n"
     ]
    }
   ],
   "source": [
    "for player, player_obj in data.items():\n",
    "    player_data = []\n",
    "    player_name = player_obj['name']\n",
    "    salary_by_year_end = player_obj['salary_by_year_end']\n",
    "    stats_by_year_end = player_obj['stats_by_year_end']\n",
    "    year_ends_played = player_obj['year_ends_played']\n",
    "    \n",
    "    for year_end in year_ends_played:\n",
    "        player_year_data = [player_name]\n",
    "        player_year_data.append(year_end)\n",
    "        \n",
    "        # add player salary + salary bucket\n",
    "        if str(year_end + 1) in salary_by_year_end:\n",
    "            salary = int(salary_by_year_end[str(year_end + 1)])\n",
    "            player_year_data.append(salary)\n",
    "            relevant_cutoffs = cutoffs_by_year[str(year_end + 1)]\n",
    "#             print('{} year {} cutoffs {} salary'.format(year_end + 1, relevant_cutoffs, salary))\n",
    "            \n",
    "            assigned_bucket = 1\n",
    "            for idx, cutoff in enumerate(relevant_cutoffs):\n",
    "                if salary > cutoff:\n",
    "                    assigned_bucket += 1\n",
    "                    continue\n",
    "                else:\n",
    "                    break\n",
    "#             print(assigned_bucket)\n",
    "            \n",
    "            player_year_data.append(assigned_bucket)\n",
    "            \n",
    "        else:\n",
    "            player_year_data.append(None)\n",
    "            player_year_data.append(None)\n",
    "        \n",
    "        # add player stats\n",
    "        if str(year_end) in stats_by_year_end:\n",
    "            for stat, val in stats_by_year_end[str(year_end)].items():\n",
    "                player_year_data.append(val)\n",
    "        else:\n",
    "            for i in range(13):\n",
    "                player_year_data.append(None)\n",
    "            \n",
    "        player_data.append(player_year_data)\n",
    "    player_data_by_year += player_data\n",
    "\n",
    "# pp.pprint(player_data)\n",
    "print(len(player_data_by_year))\n",
    "print(player_data_by_year[0])\n",
    "print(player_data_by_year[1])\n",
    "print(player_data_by_year[2])\n",
    "\n",
    "player_data_by_year = [player_year for player_year in player_data_by_year if None not in player_year]\n",
    "incorrect = [player_year for player_year in player_data_by_year if player_year[3] == 5 or player_year[3] == 0]\n",
    "\n",
    "# DONT CHANGE THIS SHIT TOO MUCH\n",
    "# each row = \n",
    "# (0 NAME, 1 YEAR, 2 SALARY, 3 SALARY BUCKET, 4 AST, 5 BLK, 6 DREB, 7 FT_P, 8 OREB, 9 PER, 10 PF, 11 PTS, 12 STL, \n",
    "# 13 THREE_P, 14 TO, 15 TS, 16 TWO_P)\n",
    "\n",
    "print('{} wrong entries for quartile'.format(len(incorrect)))"
   ]
  },
  {
   "cell_type": "code",
   "execution_count": 7,
   "metadata": {},
   "outputs": [
    {
     "name": "stdout",
     "output_type": "stream",
     "text": [
      "[['zydrunas ilgauskas', 2007, 10142156, 4, 123, 98, 357, 0.807, 242, 18.0, 257, 925, 48, 0.0, 141, 0.527, 0.486], ['zydrunas ilgauskas', 2008, 10841615, 4, 104, 120, 419, 0.802, 263, 18.7, 247, 1029, 34, 0.0, 135, 0.522, 0.475], ['zydrunas ilgauskas', 2009, 11541074, 4, 64, 84, 333, 0.799, 157, 18.0, 183, 838, 28, 0.385, 90, 0.523, 0.477]]\n"
     ]
    }
   ],
   "source": [
    "pp.pprint(player_data_by_year[-3:])"
   ]
  },
  {
   "cell_type": "code",
   "execution_count": 8,
   "metadata": {},
   "outputs": [],
   "source": [
    "with open('nba_player_year.csv', 'w') as file:\n",
    "    writer = csv.writer(file, delimiter=',')\n",
    "    writer.writerows([['name', 'year', 'salary', 'salary_bucket', 'ast', 'blk', 'dreb', 'ft_p', 'oreb', 'per', \\\n",
    "                    'pf', 'pts', 'stl', 'three_p', 'to', 'ts', 'two_p']])\n",
    "    writer.writerows(player_data_by_year)"
   ]
  },
  {
   "cell_type": "code",
   "execution_count": null,
   "metadata": {},
   "outputs": [],
   "source": []
  }
 ],
 "metadata": {
  "kernelspec": {
   "display_name": "Python 3",
   "language": "python",
   "name": "python3"
  },
  "language_info": {
   "codemirror_mode": {
    "name": "ipython",
    "version": 3
   },
   "file_extension": ".py",
   "mimetype": "text/x-python",
   "name": "python",
   "nbconvert_exporter": "python",
   "pygments_lexer": "ipython3",
   "version": "3.6.4"
  }
 },
 "nbformat": 4,
 "nbformat_minor": 2
}
